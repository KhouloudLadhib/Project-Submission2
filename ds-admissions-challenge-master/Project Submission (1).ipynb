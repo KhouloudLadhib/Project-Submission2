{
 "cells": [
  {
   "cell_type": "code",
   "execution_count": null,
   "id": "6ab90186-961e-4462-93f5-8c33fda2923a",
   "metadata": {},
   "outputs": [],
   "source": [
    "# Project Submission\n",
    "\n",
    "**Please use this notebook for your submission.**\n",
    "\n",
    "Make sure to fill out all the required fields and to answer all the questions.\n",
    "\n",
    "You will be working with a dataset that includes the results of international football matches from 1872 to 2024. The matches range from FIFA World Cups to regular friendly matches. \n",
    "\n",
    "At the end of this project, you will have answered the following questions:\n",
    "\n",
    "1. What is the average number of goals for the home team? \n",
    "2. What is the average number of goals for the away team? \n",
    "3. What is the country with the highest overall home score?\n",
    "4. What are the top 3 type of tournaments?\n",
    "5. Which country has the highest overall FIFA World Cup goals?\n",
    "\n",
    "\n",
    "**Submission Requirements:**\n",
    "\n",
    "- Make sure that you run all cells with code in your notebook before submitting.\n",
    "- You can add additional cells of code if you want, but make sure to clean up your notebook, and only leave the code required to answer the questions.\n",
    "\n",
    "\n",
    "_Original Data Source: [Kaggle](https://www.kaggle.com/datasets/martj42/international-football-results-from-1872-to-2017/data)_"
   ]
  },
  {
   "cell_type": "code",
   "execution_count": null,
   "id": "86e13c1a-e5ff-4f94-a800-eeb52a6a16c3",
   "metadata": {},
   "outputs": [],
   "source": [
    "## Step 1: Getting Started\n",
    "\n",
    "You will mainly work with a Python library called Pandas. Pandas is a powerful library that allows us to manipulate data. In order to use Pandas, you first have to import it. "
   ]
  },
  {
   "cell_type": "code",
   "execution_count": 1,
   "id": "3033fd44",
   "metadata": {},
   "outputs": [],
   "source": [
    "import pandas as pd"
   ]
  },
  {
   "cell_type": "markdown",
   "id": "f7e3b7f7",
   "metadata": {},
   "source": [
    "## Step 2: Loading and Exporing the Data\n",
    "\n",
    "You can use Pandas to explore and manipulate the _results.csv_ file. \n",
    "You first have to load the csv file into a Pandas dataframe, so you can then analyize the data. \n",
    "\n",
    "When using `pd.read_csv()`, make sure you inlcude the correct path to the csv file, depending on where you saved it when you downloaded it."
   ]
  },
  {
   "cell_type": "code",
   "execution_count": 2,
   "id": "2c9de780",
   "metadata": {},
   "outputs": [],
   "source": [
    "# First: Load the csv file into a Pandas dataframe (df)\n",
    "\n",
    "df = pd.read_csv(r\"C:\\\\Users\\\\ladhi\\\\Downloads\\\\ds-admissions-challenge-master\\\\results.csv\")"
   ]
  },
  {
   "cell_type": "code",
   "execution_count": 1,
   "id": "bb2a11f0",
   "metadata": {},
   "outputs": [
    {
     "ename": "NameError",
     "evalue": "name 'df' is not defined",
     "output_type": "error",
     "traceback": [
      "\u001b[0;31m---------------------------------------------------------------------------\u001b[0m",
      "\u001b[0;31mNameError\u001b[0m                                 Traceback (most recent call last)",
      "Cell \u001b[0;32mIn[1], line 3\u001b[0m\n\u001b[1;32m      1\u001b[0m \u001b[38;5;66;03m# Explore the df\u001b[39;00m\n\u001b[0;32m----> 3\u001b[0m df\u001b[38;5;241m.\u001b[39minfo()\n",
      "\u001b[0;31mNameError\u001b[0m: name 'df' is not defined"
     ]
    }
   ],
   "source": [
    "# Explore the df\n",
    "\n",
    "df.info()"
   ]
  },
  {
   "cell_type": "markdown",
   "id": "6a2aa881",
   "metadata": {},
   "source": [
    "## Step 3: Data Analysis"
   ]
  },
  {
   "cell_type": "markdown",
   "id": "98b9d5dd",
   "metadata": {},
   "source": [
    "### Q1: What is the average number of goals for the home team?\n",
    "\n",
    "Hint: You can call the `mean()` method on the _'home_score'_ column."
    1.739313693
   ]
  },
  {
   "cell_type": "code",
   "execution_count": 1,
   "id": "c2c5b5ea",
   "metadata": {},
   "outputs": [],
   "source": [
    "# Code here\n",
    "\n",
    "df['home_score'].mean()"
   ]
  },
  {
   "cell_type": "markdown",
   "id": "ce194e01",
   "metadata": {},
   "source": [
    "### Q2: What is the average number of goals for the away team?\n",
    "\n",
    "Hint: You can call the `mean()` method on the _'away_score'_ column."
   ]
  },
  {
   "cell_type": "code",
   "execution_count": 2,
   "id": "4fb43467",
   "metadata": {},
   "outputs": [],
   "source": [
    "# Code here\n",
    "\n",
    "Mean = df['away_score'].mean()\n",
    "\n",
    "print(Mean)"
    1.1782412
   ]
  },
  {
   "cell_type": "markdown",
   "id": "c6044d75",
   "metadata": {},
   "source": [
    "### Q3: What is the country with the highest overall home score?\n",
    "\n",
    "Hint: You will need to group the data by country, then get the sum of home scores for each country. You can use the `idxmax()` function to find the index(country) with the highest sum. "
   ]
  },
  {
   "cell_type": "code",
   "execution_count": 3,
   "id": "e5d93b04",
   "metadata": {},
   "outputs": [],
   "source": [
    "# Code here\n",
    "\n",
    "df.groupby('country')['home_score'].sum()\n",
    "print (df.idxmax(['home_score']))"
    United States
   ]
  },
  {
   "cell_type": "markdown",
   "id": "47e0f275",
   "metadata": {},
   "source": [
    "### Q4: What are the top 3 type of tournaments?\n",
    "\n",
    "Hint: You can use the `value_counts()` method to count the occurences of each unique value in the _'tournament'_ column."
    Friendly
    FIFA World Cup qualification
    UEFA Euro qualification
   ]
  },
  {
   "cell_type": "code",
   "execution_count": 4,
   "id": "2d65e4e3",
   "metadata": {},
   "outputs": [],
   "source": [
    "# Code here\n",
    "\n",
    "Count = df['tournament'].value_counts()\n",
    "Top_3_types = Count.['tournament'].max()\n",
    "Print (Top_3_types)"
   ]
  },
  {
   "cell_type": "markdown",
   "id": "0bdc8158",
   "metadata": {},
   "source": [
    "### Q5: Which country has the highest overall FIFA World Cup goals?\n",
    "\n",
    "To answer this question, consider breaking down your solution into 3 steps.\n",
    "\n",
    "**5.1 Create a new dataframe (fifa_df) that only contains rows where the \"tournament\" column == 'FIFA World Cup'.**"
   ]
  },
  {
   "cell_type": "code",
   "execution_count": 5,
   "id": "db30530c",
   "metadata": {},
   "outputs": [],
   "source": [
    "# Code here\n",
    "fifa_df = df.filter(like='FIFA World Cup', axis=0)\n"
   ]
  },
  {
   "cell_type": "markdown",
   "id": "c06b0011",
   "metadata": {},
   "source": [
    "**5.2 In your new fifa_df, create a new _'total_score'_ column that sums _'home_score'_ + _'away_score'_ for each row.**\n",
    "\n",
    "PS. If you get a \"SettingWithCopyWarning\", please ignore it."
   ]
  },
  {
   "cell_type": "code",
   "execution_count": 6,
   "id": "8dd33359",
   "metadata": {},
   "outputs": [],
   "source": [
    "# Code here\n",
    "\n",
    "fifa_df['total_score'] = fifa_df.['home_score']+['away_score']"
   ]
  },
  {
   "cell_type": "markdown",
   "id": "9b7d48d2",
   "metadata": {},
   "source": [
    "**5.3 Group your data by country, then get the sum of the _'total_score'_ column. From there, you can use `idxmax()` to find the country with the highest _'total_score'_.**"
   ]
  },
  {
   "cell_type": "code",
   "execution_count": 7,
   "id": "682c7a8a",
   "metadata": {},
   "outputs": [],
   "source": [
    "# Code here\n",
    "fifa_df.groupby('country')['total_score'].sum()\n",
    "print (fifa_df.idxmax(['total_score']))"
    Brazil
   ]
  },
  {
   "cell_type": "code",
   "execution_count": null,
   "id": "628b6683",
   "metadata": {},
   "outputs": [],
   "source": []
  }
 ],
 "metadata": {
  "kernelspec": {
   "display_name": "anaconda-panel-2023.05-py310",
   "language": "python",
   "name": "conda-env-anaconda-panel-2023.05-py310-py"
  },
  "language_info": {
   "codemirror_mode": {
    "name": "ipython",
    "version": 3
   },
   "file_extension": ".py",
   "mimetype": "text/x-python",
   "name": "python",
   "nbconvert_exporter": "python",
   "pygments_lexer": "ipython3",
   "version": "3.11.5"
  }
 },
 "nbformat": 4,
 "nbformat_minor": 5
}
